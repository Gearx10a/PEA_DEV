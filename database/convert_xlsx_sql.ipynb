{
 "cells": [
  {
   "cell_type": "code",
   "execution_count": 1,
   "id": "43542b9b",
   "metadata": {},
   "outputs": [],
   "source": [
    "import pandas as pd"
   ]
  },
  {
   "cell_type": "code",
   "execution_count": 2,
   "id": "b1644bc9",
   "metadata": {},
   "outputs": [],
   "source": [
    "def excel_to_sql_multi_sheet(file_path):\n",
    "    # Read all sheets into a dictionary\n",
    "    sheet_dict = pd.read_excel(file_path, sheet_name=None, engine='openpyxl')\n",
    "\n",
    "    sql_output = \"\"\n",
    "\n",
    "    # Type mapping\n",
    "    sql_types = {\n",
    "        'int64': 'INT',\n",
    "        'float64': 'FLOAT',\n",
    "        'object': 'VARCHAR(255)',\n",
    "        'bool': 'BOOLEAN',\n",
    "        'datetime64[ns]': 'DATETIME'\n",
    "    }\n",
    "\n",
    "    # Process each sheet\n",
    "    for sheet_name, df in sheet_dict.items():\n",
    "        table_name = sheet_name.replace(\" \", \"_\")  # make table name safe\n",
    "        create_cols = []\n",
    "        for col in df.columns:\n",
    "            dtype = str(df[col].dtype)\n",
    "            sql_type = sql_types.get(dtype, 'VARCHAR(255)')\n",
    "            create_cols.append(f\"`{col}` {sql_type}\")\n",
    "\n",
    "        create_table = f\"-- Sheet: {sheet_name}\\nCREATE TABLE `{table_name}` (\\n  \" + \",\\n  \".join(create_cols) + \"\\n);\\n\"\n",
    "        insert_statements = []\n",
    "        for _, row in df.iterrows():\n",
    "            values = []\n",
    "            for value in row:\n",
    "                if pd.isna(value):\n",
    "                    values.append(\"NULL\")\n",
    "                elif isinstance(value, str):\n",
    "                    escaped = value.replace(\"'\", \"\\\\'\")\n",
    "                    values.append(f\"'{escaped}'\")\n",
    "                elif isinstance(value, (pd.Timestamp, bool)):\n",
    "                    values.append(f\"'{value}'\")\n",
    "                else:\n",
    "                    values.append(str(value))\n",
    "            insert = f\"INSERT INTO `{table_name}` ({', '.join([f'`{col}`' for col in df.columns])}) VALUES ({', '.join(values)});\"\n",
    "            insert_statements.append(insert)\n",
    "\n",
    "        sql_output += create_table + \"\\n\" + \"\\n\".join(insert_statements) + \"\\n\\n\"\n",
    "\n",
    "    return sql_output"
   ]
  },
  {
   "cell_type": "code",
   "execution_count": 3,
   "id": "c43b6ad4",
   "metadata": {},
   "outputs": [
    {
     "name": "stdout",
     "output_type": "stream",
     "text": [
      "SQL code for all sheets saved to output.sql\n"
     ]
    }
   ],
   "source": [
    "# Example usage\n",
    "file_path = 'food_database.xlsx'\n",
    "sql_code = excel_to_sql_multi_sheet(file_path)\n",
    "\n",
    "# Save to output.sql\n",
    "with open('output.sql', 'w', encoding='utf-8') as f:\n",
    "    f.write(sql_code)\n",
    "\n",
    "print(\"SQL code for all sheets saved to output.sql\")"
   ]
  },
  {
   "cell_type": "code",
   "execution_count": null,
   "id": "8a57eab7",
   "metadata": {},
   "outputs": [],
   "source": []
  }
 ],
 "metadata": {
  "kernelspec": {
   "display_name": "Python 3",
   "language": "python",
   "name": "python3"
  },
  "language_info": {
   "codemirror_mode": {
    "name": "ipython",
    "version": 3
   },
   "file_extension": ".py",
   "mimetype": "text/x-python",
   "name": "python",
   "nbconvert_exporter": "python",
   "pygments_lexer": "ipython3",
   "version": "3.11.4"
  }
 },
 "nbformat": 4,
 "nbformat_minor": 5
}
